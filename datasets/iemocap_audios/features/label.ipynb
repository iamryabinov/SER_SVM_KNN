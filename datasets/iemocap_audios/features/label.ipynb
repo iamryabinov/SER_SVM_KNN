{
 "cells": [
  {
   "cell_type": "code",
   "execution_count": null,
   "metadata": {},
   "outputs": [],
   "source": [
    "import pandas as pd\n",
    "import numpy as np"
   ]
  },
  {
   "cell_type": "code",
   "execution_count": null,
   "metadata": {},
   "outputs": [],
   "source": [
    "features = pd.read_csv('features_with_labels.csv', delimiter=';')\n",
    "features"
   ]
  },
  {
   "cell_type": "code",
   "execution_count": null,
   "metadata": {},
   "outputs": [],
   "source": [
    "features['label'] = [inst.split('_')[-1].replace(\"'\", \"\") for inst in features['name'].values.tolist()]\n",
    "features"
   ]
  },
  {
   "cell_type": "code",
   "execution_count": null,
   "metadata": {},
   "outputs": [],
   "source": [
    "features.groupby(['label']).count()\n",
    "// comment"
   ]
  },
  {
   "cell_type": "code",
   "execution_count": null,
   "metadata": {},
   "outputs": [],
   "source": [
    "features.loc[features['label'] == 'ang', 'label'] = 'anger'\n",
    "features.loc[features['label'] == 'exc', 'label'] = 'excitement'\n",
    "features.loc[features['label'] == 'fru', 'label'] = 'frustration'\n",
    "features.loc[features['label'] == 'hap', 'label'] = 'happiness'\n",
    "features.loc[features['label'] == 'neu', 'label'] = 'neutral'\n",
    "features.loc[features['label'] == 'sad', 'label'] = 'sadness'\n",
    "features"
   ]
  },
  {
   "cell_type": "code",
   "execution_count": null,
   "metadata": {},
   "outputs": [],
   "source": [
    "features.to_csv('features_with_labels.csv', index=False, sep=';')\n",
    "features"
   ]
  },
  {
   "cell_type": "code",
   "execution_count": null,
   "metadata": {},
   "outputs": [],
   "source": []
  }
 ],
 "metadata": {
  "kernelspec": {
   "display_name": "Python 3",
   "language": "python",
   "name": "python3"
  },
  "language_info": {
   "codemirror_mode": {
    "name": "ipython",
    "version": 3
   },
   "file_extension": ".py",
   "mimetype": "text/x-python",
   "name": "python",
   "nbconvert_exporter": "python",
   "pygments_lexer": "ipython3",
   "version": "3.7.6"
  }
 },
 "nbformat": 4,
 "nbformat_minor": 4
}
