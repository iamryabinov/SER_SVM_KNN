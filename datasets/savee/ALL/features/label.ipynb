{
 "cells": [
  {
   "cell_type": "code",
   "execution_count": null,
   "metadata": {},
   "outputs": [],
   "source": [
    "import pandas as pd\n",
    "import numpy as np"
   ]
  },
  {
   "cell_type": "code",
   "execution_count": null,
   "metadata": {},
   "outputs": [],
   "source": [
    "features = pd.read_csv('features_with_labels.csv', delimiter=';')\n",
    "features"
   ]
  },
  {
   "cell_type": "code",
   "execution_count": null,
   "metadata": {},
   "outputs": [],
   "source": [
    "    features.loc[features['name'].str.contains('a', case=True), 'label'] = 'anger'\n",
    "    features.loc[features['name'].str.contains('d', case=True), 'label'] = 'disgust'\n",
    "    features.loc[features['name'].str.contains('f', case=True), 'label'] = 'fear'\n",
    "    features.loc[features['name'].str.contains('h', case=True), 'label'] = 'happiness'\n",
    "    features.loc[features['name'].str.contains('n', case=True), 'label'] = 'neutral'\n",
    "    features.loc[features['name'].str.contains('sa', case=True), 'label'] = 'sadness'\n",
    "    features.loc[features['name'].str.contains('su', case=True), 'label'] = 'surprise'"
   ]
  },
  {
   "cell_type": "code",
   "execution_count": null,
   "metadata": {},
   "outputs": [],
   "source": [
    "features"
   ]
  },
  {
   "cell_type": "code",
   "execution_count": null,
   "metadata": {},
   "outputs": [],
   "source": [
    "features.to_csv('features_with_labels.csv', index=False, sep=';')"
   ]
  },
  {
   "cell_type": "code",
   "execution_count": null,
   "metadata": {},
   "outputs": [],
   "source": []
  }
 ],
 "metadata": {
  "kernelspec": {
   "display_name": "PyCharm (NumPyPractice)",
   "language": "python",
   "name": "pycharm-bcc84cbd"
  },
  "language_info": {
   "codemirror_mode": {
    "name": "ipython",
    "version": 3
   },
   "file_extension": ".py",
   "mimetype": "text/x-python",
   "name": "python",
   "nbconvert_exporter": "python",
   "pygments_lexer": "ipython3",
   "version": "3.7.6"
  }
 },
 "nbformat": 4,
 "nbformat_minor": 4
}
