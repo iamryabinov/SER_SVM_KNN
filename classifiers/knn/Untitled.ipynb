{
 "cells": [
  {
   "cell_type": "code",
   "execution_count": 1,
   "metadata": {},
   "outputs": [],
   "source": [
    "import pandas as pd\n",
    "import matplotlib.pyplot as plt\n",
    "%matplotlib inline"
   ]
  },
  {
   "cell_type": "code",
   "execution_count": 26,
   "metadata": {},
   "outputs": [
    {
     "data": {
      "text/html": [
       "<div>\n",
       "<style scoped>\n",
       "    .dataframe tbody tr th:only-of-type {\n",
       "        vertical-align: middle;\n",
       "    }\n",
       "\n",
       "    .dataframe tbody tr th {\n",
       "        vertical-align: top;\n",
       "    }\n",
       "\n",
       "    .dataframe thead th {\n",
       "        text-align: right;\n",
       "    }\n",
       "</style>\n",
       "<table border=\"1\" class=\"dataframe\">\n",
       "  <thead>\n",
       "    <tr style=\"text-align: right;\">\n",
       "      <th></th>\n",
       "      <th>Unnamed: 0</th>\n",
       "      <th>2</th>\n",
       "      <th>4</th>\n",
       "      <th>6</th>\n",
       "      <th>8</th>\n",
       "      <th>10</th>\n",
       "      <th>12</th>\n",
       "      <th>14</th>\n",
       "      <th>16</th>\n",
       "      <th>18</th>\n",
       "      <th>...</th>\n",
       "      <th>280</th>\n",
       "      <th>282</th>\n",
       "      <th>284</th>\n",
       "      <th>286</th>\n",
       "      <th>288</th>\n",
       "      <th>290</th>\n",
       "      <th>292</th>\n",
       "      <th>294</th>\n",
       "      <th>296</th>\n",
       "      <th>298</th>\n",
       "    </tr>\n",
       "  </thead>\n",
       "  <tbody>\n",
       "    <tr>\n",
       "      <th>0</th>\n",
       "      <td>train_scores</td>\n",
       "      <td>0.621296</td>\n",
       "      <td>0.539815</td>\n",
       "      <td>0.487963</td>\n",
       "      <td>0.437037</td>\n",
       "      <td>0.423148</td>\n",
       "      <td>0.410185</td>\n",
       "      <td>0.407407</td>\n",
       "      <td>0.399074</td>\n",
       "      <td>0.398148</td>\n",
       "      <td>...</td>\n",
       "      <td>0.294444</td>\n",
       "      <td>0.294444</td>\n",
       "      <td>0.294444</td>\n",
       "      <td>0.295370</td>\n",
       "      <td>0.292593</td>\n",
       "      <td>0.289815</td>\n",
       "      <td>0.288889</td>\n",
       "      <td>0.288889</td>\n",
       "      <td>0.292593</td>\n",
       "      <td>0.288889</td>\n",
       "    </tr>\n",
       "    <tr>\n",
       "      <th>1</th>\n",
       "      <td>test_scores</td>\n",
       "      <td>0.269444</td>\n",
       "      <td>0.269444</td>\n",
       "      <td>0.280556</td>\n",
       "      <td>0.302778</td>\n",
       "      <td>0.308333</td>\n",
       "      <td>0.311111</td>\n",
       "      <td>0.291667</td>\n",
       "      <td>0.311111</td>\n",
       "      <td>0.319444</td>\n",
       "      <td>...</td>\n",
       "      <td>0.241667</td>\n",
       "      <td>0.247222</td>\n",
       "      <td>0.252778</td>\n",
       "      <td>0.247222</td>\n",
       "      <td>0.247222</td>\n",
       "      <td>0.250000</td>\n",
       "      <td>0.247222</td>\n",
       "      <td>0.252778</td>\n",
       "      <td>0.250000</td>\n",
       "      <td>0.255556</td>\n",
       "    </tr>\n",
       "  </tbody>\n",
       "</table>\n",
       "<p>2 rows × 150 columns</p>\n",
       "</div>"
      ],
      "text/plain": [
       "     Unnamed: 0         2         4         6         8        10        12  \\\n",
       "0  train_scores  0.621296  0.539815  0.487963  0.437037  0.423148  0.410185   \n",
       "1   test_scores  0.269444  0.269444  0.280556  0.302778  0.308333  0.311111   \n",
       "\n",
       "         14        16        18  ...       280       282       284       286  \\\n",
       "0  0.407407  0.399074  0.398148  ...  0.294444  0.294444  0.294444  0.295370   \n",
       "1  0.291667  0.311111  0.319444  ...  0.241667  0.247222  0.252778  0.247222   \n",
       "\n",
       "        288       290       292       294       296       298  \n",
       "0  0.292593  0.289815  0.288889  0.288889  0.292593  0.288889  \n",
       "1  0.247222  0.250000  0.247222  0.252778  0.250000  0.255556  \n",
       "\n",
       "[2 rows x 150 columns]"
      ]
     },
     "execution_count": 26,
     "metadata": {},
     "output_type": "execute_result"
    }
   ],
   "source": [
    "df = pd.read_csv('ravdess_train_test_score.csv')\n",
    "df"
   ]
  },
  {
   "cell_type": "code",
   "execution_count": 32,
   "metadata": {},
   "outputs": [
    {
     "data": {
      "text/html": [
       "<div>\n",
       "<style scoped>\n",
       "    .dataframe tbody tr th:only-of-type {\n",
       "        vertical-align: middle;\n",
       "    }\n",
       "\n",
       "    .dataframe tbody tr th {\n",
       "        vertical-align: top;\n",
       "    }\n",
       "\n",
       "    .dataframe thead th {\n",
       "        text-align: right;\n",
       "    }\n",
       "</style>\n",
       "<table border=\"1\" class=\"dataframe\">\n",
       "  <thead>\n",
       "    <tr style=\"text-align: right;\">\n",
       "      <th></th>\n",
       "      <th>2</th>\n",
       "      <th>4</th>\n",
       "      <th>6</th>\n",
       "      <th>8</th>\n",
       "      <th>10</th>\n",
       "      <th>12</th>\n",
       "      <th>14</th>\n",
       "      <th>16</th>\n",
       "      <th>18</th>\n",
       "      <th>20</th>\n",
       "      <th>...</th>\n",
       "      <th>280</th>\n",
       "      <th>282</th>\n",
       "      <th>284</th>\n",
       "      <th>286</th>\n",
       "      <th>288</th>\n",
       "      <th>290</th>\n",
       "      <th>292</th>\n",
       "      <th>294</th>\n",
       "      <th>296</th>\n",
       "      <th>298</th>\n",
       "    </tr>\n",
       "  </thead>\n",
       "  <tbody>\n",
       "    <tr>\n",
       "      <th>1</th>\n",
       "      <td>0.269444</td>\n",
       "      <td>0.269444</td>\n",
       "      <td>0.280556</td>\n",
       "      <td>0.302778</td>\n",
       "      <td>0.308333</td>\n",
       "      <td>0.311111</td>\n",
       "      <td>0.291667</td>\n",
       "      <td>0.311111</td>\n",
       "      <td>0.319444</td>\n",
       "      <td>0.3</td>\n",
       "      <td>...</td>\n",
       "      <td>0.241667</td>\n",
       "      <td>0.247222</td>\n",
       "      <td>0.252778</td>\n",
       "      <td>0.247222</td>\n",
       "      <td>0.247222</td>\n",
       "      <td>0.25</td>\n",
       "      <td>0.247222</td>\n",
       "      <td>0.252778</td>\n",
       "      <td>0.25</td>\n",
       "      <td>0.255556</td>\n",
       "    </tr>\n",
       "  </tbody>\n",
       "</table>\n",
       "<p>1 rows × 149 columns</p>\n",
       "</div>"
      ],
      "text/plain": [
       "          2         4         6         8        10        12        14  \\\n",
       "1  0.269444  0.269444  0.280556  0.302778  0.308333  0.311111  0.291667   \n",
       "\n",
       "         16        18   20  ...       280       282       284       286  \\\n",
       "1  0.311111  0.319444  0.3  ...  0.241667  0.247222  0.252778  0.247222   \n",
       "\n",
       "        288   290       292       294   296       298  \n",
       "1  0.247222  0.25  0.247222  0.252778  0.25  0.255556  \n",
       "\n",
       "[1 rows x 149 columns]"
      ]
     },
     "execution_count": 32,
     "metadata": {},
     "output_type": "execute_result"
    }
   ],
   "source": [
    "test_scores = df.iloc[[1]].drop('Unnamed: 0', axis=1)\n",
    "test_scores"
   ]
  },
  {
   "cell_type": "code",
   "execution_count": 34,
   "metadata": {},
   "outputs": [
    {
     "data": {
      "text/plain": [
       "1    0.325\n",
       "dtype: float64"
      ]
     },
     "execution_count": 34,
     "metadata": {},
     "output_type": "execute_result"
    }
   ],
   "source": [
    "max_test_score = test_scores.max(axis=1)\n",
    "max_test_score"
   ]
  },
  {
   "cell_type": "code",
   "execution_count": 29,
   "metadata": {},
   "outputs": [
    {
     "data": {
      "text/plain": [
       "1    82\n",
       "dtype: object"
      ]
     },
     "execution_count": 29,
     "metadata": {},
     "output_type": "execute_result"
    }
   ],
   "source": [
    "x_max = test_scores.idxmax(axis=1)\n",
    "x_max\n"
   ]
  },
  {
   "cell_type": "code",
   "execution_count": 6,
   "metadata": {},
   "outputs": [],
   "source": [
    "x = df.columns.values[1:]\n",
    "y1 = df.iloc[0].values[1:]\n",
    "y2 = df.iloc[1].values[1:]"
   ]
  },
  {
   "cell_type": "code",
   "execution_count": 16,
   "metadata": {},
   "outputs": [
    {
     "data": {
      "image/png": "[encoded data removed]",
      "text/plain": [
       "<Figure size 921.6x737.28 with 1 Axes>"
      ]
     },
     "metadata": {
      "needs_background": "light"
     },
     "output_type": "display_data"
    }
   ],
   "source": [
    "plt.figure(figsize=[12.8, 10.24])\n",
    "plt.plot(x, y1, label='Train')\n",
    "plt.plot(x, y2, label='Test')\n",
    "plt.scatter(x_max, max_test_score, label='Max test score {:.4f} with {} neighbors'.format(max_test_score, x_max), c='green', marker=7, s=100)\n",
    "plt.xscale('linear')\n",
    "plt.xlabel('Number of neighbors', fontsize=12)\n",
    "plt.ylabel('Model accuracy', fontsize=12)\n",
    "plt.title('Crema-D k-NN multiclass classification', fontsize=20)\n",
    "plt.legend(fontsize=12)\n",
    "plt.show()"
   ]
  },
  {
   "cell_type": "code",
   "execution_count": null,
   "metadata": {},
   "outputs": [],
   "source": []
  }
 ],
 "metadata": {
  "kernelspec": {
   "display_name": "Python 3",
   "language": "python",
   "name": "python3"
  },
  "language_info": {
   "codemirror_mode": {
    "name": "ipython",
    "version": 3
   },
   "file_extension": ".py",
   "mimetype": "text/x-python",
   "name": "python",
   "nbconvert_exporter": "python",
   "pygments_lexer": "ipython3",
   "version": "3.7.6"
  }
 },
 "nbformat": 4,
 "nbformat_minor": 4
}
