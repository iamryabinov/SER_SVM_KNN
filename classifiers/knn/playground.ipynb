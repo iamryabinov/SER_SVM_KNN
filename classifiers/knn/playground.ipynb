{
 "cells": [
  {
   "cell_type": "code",
   "execution_count": 1,
   "metadata": {},
   "outputs": [],
   "source": [
    "import pandas as pd\n",
    "import os"
   ]
  },
  {
   "cell_type": "code",
   "execution_count": 3,
   "metadata": {},
   "outputs": [
    {
     "data": {
      "text/plain": [
       "['crema-d-posnegneu_first_try_train-test-score_normalized.csv',\n",
       " 'crema-d-posnegneu_first_try_train-test-score_raw.csv',\n",
       " 'crema-d-posnegneu_first_try_train-test-score_standardized.csv',\n",
       " 'crema-d-posnegneu_first_try_train_test_score_summary.csv',\n",
       " 'crema-d_base-multi_train-test-score_normalized.csv',\n",
       " 'crema-d_base-multi_train-test-score_raw.csv',\n",
       " 'crema-d_base-multi_train-test-score_standardized.csv',\n",
       " 'crema-d_base-multi_train_test_score_summary.csv',\n",
       " 'emo-db-posnegneu_first_try_train-test-score_normalized.csv',\n",
       " 'emo-db-posnegneu_first_try_train-test-score_raw.csv',\n",
       " 'emo-db-posnegneu_first_try_train-test-score_standardized.csv',\n",
       " 'emo-db-posnegneu_first_try_train_test_score_summary.csv',\n",
       " 'emo-db_base-multi_train-test-score_normalized.csv',\n",
       " 'emo-db_base-multi_train-test-score_raw.csv',\n",
       " 'emo-db_base-multi_train-test-score_standardized.csv',\n",
       " 'emo-db_base-multi_train_test_score_summary.csv',\n",
       " 'english-assembly-six-posnegneu_first_try_train-test-score_normalized.csv',\n",
       " 'english-assembly-six-posnegneu_first_try_train-test-score_raw.csv',\n",
       " 'english-assembly-six-posnegneu_first_try_train-test-score_standardized.csv',\n",
       " 'english-assembly-six-posnegneu_first_try_train_test_score_summary.csv',\n",
       " 'english-assembly-six_base-multi_train-test-score_normalized.csv',\n",
       " 'english-assembly-six_base-multi_train-test-score_raw.csv',\n",
       " 'english-assembly-six_base-multi_train-test-score_standardized.csv',\n",
       " 'english-assembly-six_base-multi_train_test_score_summary.csv',\n",
       " 'iemocap-posnegneu_first_try_train-test-score_normalized.csv',\n",
       " 'iemocap-posnegneu_first_try_train-test-score_raw.csv',\n",
       " 'iemocap-posnegneu_first_try_train-test-score_standardized.csv',\n",
       " 'iemocap-posnegneu_first_try_train_test_score_summary.csv',\n",
       " 'iemocap_base-multi_train-test-score_normalized.csv',\n",
       " 'iemocap_base-multi_train-test-score_raw.csv',\n",
       " 'iemocap_base-multi_train-test-score_standardized.csv',\n",
       " 'iemocap_base-multi_train_test_score_summary.csv',\n",
       " 'ravdess-posnegneu_first_try_train-test-score_normalized.csv',\n",
       " 'ravdess-posnegneu_first_try_train-test-score_raw.csv',\n",
       " 'ravdess-posnegneu_first_try_train-test-score_standardized.csv',\n",
       " 'ravdess-posnegneu_first_try_train_test_score_summary.csv',\n",
       " 'ravdess_base-multi_train-test-score_normalized.csv',\n",
       " 'ravdess_base-multi_train-test-score_raw.csv',\n",
       " 'ravdess_base-multi_train-test-score_standardized.csv',\n",
       " 'ravdess_base-multi_train_test_score_summary.csv',\n",
       " 'savee-posnegneu_first_try_train-test-score_normalized.csv',\n",
       " 'savee-posnegneu_first_try_train-test-score_raw.csv',\n",
       " 'savee-posnegneu_first_try_train-test-score_standardized.csv',\n",
       " 'savee-posnegneu_first_try_train_test_score_summary.csv',\n",
       " 'savee_base-multi_train-test-score_normalized.csv',\n",
       " 'savee_base-multi_train-test-score_raw.csv',\n",
       " 'savee_base-multi_train-test-score_standardized.csv',\n",
       " 'savee_base-multi_train_test_score_summary.csv',\n",
       " 'tess-posnegneu_first_try_train-test-score_normalized.csv',\n",
       " 'tess-posnegneu_first_try_train-test-score_raw.csv',\n",
       " 'tess-posnegneu_first_try_train-test-score_standardized.csv',\n",
       " 'tess-posnegneu_first_try_train_test_score_summary.csv',\n",
       " 'tess_base-multi_train-test-score_normalized.csv',\n",
       " 'tess_base-multi_train-test-score_raw.csv',\n",
       " 'tess_base-multi_train-test-score_standardized.csv',\n",
       " 'tess_base-multi_train_test_score_summary.csv']"
      ]
     },
     "execution_count": 3,
     "metadata": {},
     "output_type": "execute_result"
    }
   ],
   "source": [
    "csvfiles = []\n",
    "for file in os.listdir():\n",
    "    if file.endswith('.csv'):\n",
    "        csvfiles.append(file)\n",
    "csvfiles"
   ]
  },
  {
   "cell_type": "code",
   "execution_count": 4,
   "metadata": {},
   "outputs": [
    {
     "data": {
      "text/html": [
       "<div>\n",
       "<style scoped>\n",
       "    .dataframe tbody tr th:only-of-type {\n",
       "        vertical-align: middle;\n",
       "    }\n",
       "\n",
       "    .dataframe tbody tr th {\n",
       "        vertical-align: top;\n",
       "    }\n",
       "\n",
       "    .dataframe thead th {\n",
       "        text-align: right;\n",
       "    }\n",
       "</style>\n",
       "<table border=\"1\" class=\"dataframe\">\n",
       "  <thead>\n",
       "    <tr style=\"text-align: right;\">\n",
       "      <th></th>\n",
       "      <th>n_neighbors</th>\n",
       "      <th>train_score_raw</th>\n",
       "      <th>test_score_raw</th>\n",
       "      <th>train_score_normalized</th>\n",
       "      <th>test_score_normalized</th>\n",
       "      <th>train_score_standardized</th>\n",
       "      <th>test_score_standardized</th>\n",
       "    </tr>\n",
       "  </thead>\n",
       "  <tbody>\n",
       "    <tr>\n",
       "      <th>0</th>\n",
       "      <td>2</td>\n",
       "      <td>0.773696</td>\n",
       "      <td>0.634068</td>\n",
       "      <td>0.773876</td>\n",
       "      <td>0.639441</td>\n",
       "      <td>0.807024</td>\n",
       "      <td>0.687265</td>\n",
       "    </tr>\n",
       "    <tr>\n",
       "      <th>1</th>\n",
       "      <td>3</td>\n",
       "      <td>0.765633</td>\n",
       "      <td>0.623321</td>\n",
       "      <td>0.764379</td>\n",
       "      <td>0.628157</td>\n",
       "      <td>0.807561</td>\n",
       "      <td>0.678667</td>\n",
       "    </tr>\n",
       "    <tr>\n",
       "      <th>2</th>\n",
       "      <td>4</td>\n",
       "      <td>0.737144</td>\n",
       "      <td>0.634605</td>\n",
       "      <td>0.740011</td>\n",
       "      <td>0.653949</td>\n",
       "      <td>0.775130</td>\n",
       "      <td>0.692638</td>\n",
       "    </tr>\n",
       "    <tr>\n",
       "      <th>3</th>\n",
       "      <td>5</td>\n",
       "      <td>0.725676</td>\n",
       "      <td>0.645889</td>\n",
       "      <td>0.728722</td>\n",
       "      <td>0.651800</td>\n",
       "      <td>0.775130</td>\n",
       "      <td>0.691564</td>\n",
       "    </tr>\n",
       "    <tr>\n",
       "      <th>4</th>\n",
       "      <td>6</td>\n",
       "      <td>0.715642</td>\n",
       "      <td>0.656099</td>\n",
       "      <td>0.719405</td>\n",
       "      <td>0.665771</td>\n",
       "      <td>0.759362</td>\n",
       "      <td>0.696937</td>\n",
       "    </tr>\n",
       "    <tr>\n",
       "      <th>...</th>\n",
       "      <td>...</td>\n",
       "      <td>...</td>\n",
       "      <td>...</td>\n",
       "      <td>...</td>\n",
       "      <td>...</td>\n",
       "      <td>...</td>\n",
       "      <td>...</td>\n",
       "    </tr>\n",
       "    <tr>\n",
       "      <th>69</th>\n",
       "      <td>71</td>\n",
       "      <td>0.683748</td>\n",
       "      <td>0.682966</td>\n",
       "      <td>0.683390</td>\n",
       "      <td>0.685116</td>\n",
       "      <td>0.706504</td>\n",
       "      <td>0.706609</td>\n",
       "    </tr>\n",
       "    <tr>\n",
       "      <th>70</th>\n",
       "      <td>72</td>\n",
       "      <td>0.683928</td>\n",
       "      <td>0.683503</td>\n",
       "      <td>0.683390</td>\n",
       "      <td>0.684041</td>\n",
       "      <td>0.705967</td>\n",
       "      <td>0.703385</td>\n",
       "    </tr>\n",
       "    <tr>\n",
       "      <th>71</th>\n",
       "      <td>73</td>\n",
       "      <td>0.683928</td>\n",
       "      <td>0.683503</td>\n",
       "      <td>0.683390</td>\n",
       "      <td>0.685653</td>\n",
       "      <td>0.706146</td>\n",
       "      <td>0.702311</td>\n",
       "    </tr>\n",
       "    <tr>\n",
       "      <th>72</th>\n",
       "      <td>74</td>\n",
       "      <td>0.683748</td>\n",
       "      <td>0.682966</td>\n",
       "      <td>0.683390</td>\n",
       "      <td>0.684578</td>\n",
       "      <td>0.705608</td>\n",
       "      <td>0.701236</td>\n",
       "    </tr>\n",
       "    <tr>\n",
       "      <th>73</th>\n",
       "      <td>75</td>\n",
       "      <td>0.683569</td>\n",
       "      <td>0.683503</td>\n",
       "      <td>0.683211</td>\n",
       "      <td>0.684578</td>\n",
       "      <td>0.705250</td>\n",
       "      <td>0.701236</td>\n",
       "    </tr>\n",
       "  </tbody>\n",
       "</table>\n",
       "<p>74 rows × 7 columns</p>\n",
       "</div>"
      ],
      "text/plain": [
       "    n_neighbors  train_score_raw  test_score_raw  train_score_normalized  \\\n",
       "0             2         0.773696        0.634068                0.773876   \n",
       "1             3         0.765633        0.623321                0.764379   \n",
       "2             4         0.737144        0.634605                0.740011   \n",
       "3             5         0.725676        0.645889                0.728722   \n",
       "4             6         0.715642        0.656099                0.719405   \n",
       "..          ...              ...             ...                     ...   \n",
       "69           71         0.683748        0.682966                0.683390   \n",
       "70           72         0.683928        0.683503                0.683390   \n",
       "71           73         0.683928        0.683503                0.683390   \n",
       "72           74         0.683748        0.682966                0.683390   \n",
       "73           75         0.683569        0.683503                0.683211   \n",
       "\n",
       "    test_score_normalized  train_score_standardized  test_score_standardized  \n",
       "0                0.639441                  0.807024                 0.687265  \n",
       "1                0.628157                  0.807561                 0.678667  \n",
       "2                0.653949                  0.775130                 0.692638  \n",
       "3                0.651800                  0.775130                 0.691564  \n",
       "4                0.665771                  0.759362                 0.696937  \n",
       "..                    ...                       ...                      ...  \n",
       "69               0.685116                  0.706504                 0.706609  \n",
       "70               0.684041                  0.705967                 0.703385  \n",
       "71               0.685653                  0.706146                 0.702311  \n",
       "72               0.684578                  0.705608                 0.701236  \n",
       "73               0.684578                  0.705250                 0.701236  \n",
       "\n",
       "[74 rows x 7 columns]"
      ]
     },
     "execution_count": 4,
     "metadata": {},
     "output_type": "execute_result"
    }
   ],
   "source": [
    "df = pd.read_csv('crema-d-posnegneu_first_try_train_test_score_summary.csv', delimiter=';')\n",
    "df"
   ]
  },
  {
   "cell_type": "code",
   "execution_count": 11,
   "metadata": {},
   "outputs": [
    {
     "data": {
      "text/plain": [
       "n_neighbors                 40.000000\n",
       "train_score_raw              0.684824\n",
       "test_score_raw               0.685116\n",
       "train_score_normalized       0.684465\n",
       "test_score_normalized        0.681354\n",
       "train_score_standardized     0.717076\n",
       "test_score_standardized      0.708759\n",
       "Name: 38, dtype: float64"
      ]
     },
     "execution_count": 11,
     "metadata": {},
     "output_type": "execute_result"
    }
   ],
   "source": [
    "_ = df.iloc[df['test_score_raw'].argmax()]\n",
    "_"
   ]
  },
  {
   "cell_type": "code",
   "execution_count": 15,
   "metadata": {},
   "outputs": [
    {
     "data": {
      "text/plain": [
       "0.6851155292853305"
      ]
     },
     "execution_count": 15,
     "metadata": {},
     "output_type": "execute_result"
    }
   ],
   "source": [
    "n = (_['test_score_raw'])\n",
    "n"
   ]
  },
  {
   "cell_type": "code",
   "execution_count": null,
   "metadata": {},
   "outputs": [],
   "source": []
  },
  {
   "cell_type": "code",
   "execution_count": null,
   "metadata": {},
   "outputs": [],
   "source": []
  },
  {
   "cell_type": "code",
   "execution_count": null,
   "metadata": {},
   "outputs": [],
   "source": []
  },
  {
   "cell_type": "code",
   "execution_count": null,
   "metadata": {},
   "outputs": [],
   "source": []
  },
  {
   "cell_type": "code",
   "execution_count": null,
   "metadata": {},
   "outputs": [],
   "source": []
  },
  {
   "cell_type": "code",
   "execution_count": null,
   "metadata": {},
   "outputs": [],
   "source": []
  },
  {
   "cell_type": "code",
   "execution_count": null,
   "metadata": {},
   "outputs": [],
   "source": []
  },
  {
   "cell_type": "code",
   "execution_count": null,
   "metadata": {},
   "outputs": [],
   "source": []
  },
  {
   "cell_type": "code",
   "execution_count": null,
   "metadata": {},
   "outputs": [],
   "source": []
  },
  {
   "cell_type": "code",
   "execution_count": null,
   "metadata": {},
   "outputs": [],
   "source": []
  }
 ],
 "metadata": {
  "kernelspec": {
   "display_name": "Python 3",
   "language": "python",
   "name": "python3"
  },
  "language_info": {
   "codemirror_mode": {
    "name": "ipython",
    "version": 3
   },
   "file_extension": ".py",
   "mimetype": "text/x-python",
   "name": "python",
   "nbconvert_exporter": "python",
   "pygments_lexer": "ipython3",
   "version": "3.7.6"
  }
 },
 "nbformat": 4,
 "nbformat_minor": 4
}
